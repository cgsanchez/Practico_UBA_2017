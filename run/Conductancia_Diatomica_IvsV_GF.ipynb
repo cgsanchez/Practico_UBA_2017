{
 "cells": [
  {
   "cell_type": "markdown",
   "metadata": {},
   "source": [
    "## Conductancia de Una Diatómica a partir de Funciones de Green"
   ]
  },
  {
   "cell_type": "markdown",
   "metadata": {},
   "source": [
    "Importamos los módulos de siempre, agregamos una cuadratura Gaussiana para calcular la integral de la función transmisión."
   ]
  },
  {
   "cell_type": "code",
   "execution_count": 1,
   "metadata": {
    "collapsed": true
   },
   "outputs": [],
   "source": [
    "import matplotlib.pyplot as plt\n",
    "import numpy as np\n",
    "from scipy.integrate import quadrature\n",
    "import math\n",
    "%matplotlib inline"
   ]
  },
  {
   "cell_type": "markdown",
   "metadata": {},
   "source": [
    "Como antes, definimos la Función de Green Superficial del hilo semi-infinito"
   ]
  },
  {
   "cell_type": "code",
   "execution_count": 2,
   "metadata": {
    "collapsed": true
   },
   "outputs": [],
   "source": [
    "def myarg(z):\n",
    "    myarg = math.atan2(z.imag,z.real)\n",
    "    if (myarg < 0.0):\n",
    "        myarg = myarg +  2.0 * math.pi\n",
    "    return myarg"
   ]
  },
  {
   "cell_type": "code",
   "execution_count": 3,
   "metadata": {
    "collapsed": true
   },
   "outputs": [],
   "source": [
    "def mysqrt(z):\n",
    "     return math.sqrt(abs(z)) * (math.cos(myarg(z)/2.0) + (0+1j)*math.sin(myarg(z)/2.0))"
   ]
  },
  {
   "cell_type": "code",
   "execution_count": 4,
   "metadata": {
    "collapsed": true
   },
   "outputs": [],
   "source": [
    "def sgwire(z,beta,mu):\n",
    "    zloc = z\n",
    "    if ( zloc.imag > 0.0 ):\n",
    "        return ((zloc-mu) - mysqrt((zloc-mu)**2 - 4.0 * beta**2)) / (2.0 * beta**2)\n",
    "    else:\n",
    "        zloc = z.conjugate()\n",
    "        return (((zloc-mu) - mysqrt((zloc-mu)**2 - 4.0 * beta**2)) / (2.0 * beta**2)).conjugate()"
   ]
  },
  {
   "cell_type": "markdown",
   "metadata": {},
   "source": [
    "Parámetros generales, $\\hbar$, como siempre uno por usar unidades atómicas. Se agrega $\\eta$ que usaremos como parte imaginaria cuando correspondan funciones del tipo $G^+$ que requieren un límite para la parte imaginaria que tiende a cero por arriba o debajo. En nuestro caso simplement evaluaremos las funciones apenas por encima o debajo del eje según corresponda. El parámetro $\\eta$ controla esa distancia. Debería ser lo más pequeño posible, pero no demasiado para no complicar mucho la integración numérica que deberemos hacer al final."
   ]
  },
  {
   "cell_type": "code",
   "execution_count": 5,
   "metadata": {
    "collapsed": true
   },
   "outputs": [],
   "source": [
    "eta = 0.00001\n",
    "hbar = 1.0"
   ]
  },
  {
   "cell_type": "markdown",
   "metadata": {},
   "source": [
    "Los parámetros que definen al sistema:\n",
    "* $\\beta$ es el hopping en los leads\n",
    "* $\\delta$ es el hopping en la diatómica, la diferencia HOMO-LUMO es $|2\\delta|$\n",
    "* $\\gamma$ es el acoplamiento de la molécula con los leads\n",
    "* $\\epsilon_1$ y $\\epsilon_2$ son energías de sitio en la diatómica y pueden servir para simular una diatómica héteronuclear por ejemplo."
   ]
  },
  {
   "cell_type": "code",
   "execution_count": 6,
   "metadata": {
    "collapsed": true
   },
   "outputs": [],
   "source": [
    "beta = -1.0\n",
    "delta = -0.25\n",
    "gamma = -0.1\n",
    "epsilon1 = 0.0\n",
    "epsilon2 = 0.0"
   ]
  },
  {
   "cell_type": "markdown",
   "metadata": {},
   "source": [
    "El Hamiltoniano de la diatómica construído trivialmente elemento a elemento."
   ]
  },
  {
   "cell_type": "code",
   "execution_count": 7,
   "metadata": {
    "collapsed": true
   },
   "outputs": [],
   "source": [
    "H = np.zeros((2,2),dtype=np.complex128)\n",
    "H[0,0] = epsilon1\n",
    "H[1,1] = epsilon2\n",
    "H[0,1] = delta\n",
    "H[1,0] = delta"
   ]
  },
  {
   "cell_type": "markdown",
   "metadata": {},
   "source": [
    "Las Self Energies de cada lead, recordemos que son $\\Sigma_L(z) = -\\gamma^2 G^0_{ll}$. Notemos que dependen del potencial químico de los electrones en cada lado porque este define el centro de la banda."
   ]
  },
  {
   "cell_type": "code",
   "execution_count": 8,
   "metadata": {
    "collapsed": true
   },
   "outputs": [],
   "source": [
    "def Sigma_L(z,mu_l):\n",
    "    Sigma = np.zeros((2,2),dtype=np.complex128)\n",
    "    Sigma[0,0] = - gamma**2 * sgwire(z,beta,mu_l)\n",
    "    return Sigma"
   ]
  },
  {
   "cell_type": "code",
   "execution_count": 9,
   "metadata": {
    "collapsed": true
   },
   "outputs": [],
   "source": [
    "def Sigma_R(z,mu_r):\n",
    "    Sigma = np.zeros((2,2),dtype=np.complex128)\n",
    "    Sigma[1,1] = - gamma**2 * sgwire(z,beta,mu_r)\n",
    "    return Sigma"
   ]
  },
  {
   "cell_type": "markdown",
   "metadata": {},
   "source": [
    "La función de Green del dispositivo es la matriz\n",
    "\n",
    "$$ G_{\\mathrm dev} = \\frac{1}{zI-H+\\Sigma_L+\\Sigma_R} $$"
   ]
  },
  {
   "cell_type": "code",
   "execution_count": 10,
   "metadata": {
    "collapsed": true
   },
   "outputs": [],
   "source": [
    "def G_dev(z,mu_l,mu_r):\n",
    "    return np.linalg.inv(z*np.identity(2) - H + Sigma_L(z,mu_l) + Sigma_R(z,mu_r))"
   ]
  },
  {
   "cell_type": "markdown",
   "metadata": {},
   "source": [
    "Miremos las densidades de estados de los leads y el dispositivo conectado"
   ]
  },
  {
   "cell_type": "code",
   "execution_count": 11,
   "metadata": {
    "collapsed": true
   },
   "outputs": [],
   "source": [
    "dos = []\n",
    "dos_l = []\n",
    "dos_r = []\n",
    "DeltaV = 1.0\n",
    "mu_l = DeltaV / 2.0\n",
    "mu_r = - DeltaV / 2.0\n",
    "energies = np.linspace(-3.0,3.0,1000)\n",
    "for energy in energies:\n",
    "    GG = G_dev(energy+eta*1j,mu_l,mu_r)\n",
    "    dos.append(- (GG[0,0].imag + GG[1,1].imag) / math.pi)\n",
    "    dos_l.append(- 10.0 * sgwire(energy+eta*1j,beta,mu_l).imag / math.pi)\n",
    "    dos_r.append(- 10.0 * sgwire(energy+eta*1j,beta,mu_r).imag / math.pi)"
   ]
  },
  {
   "cell_type": "code",
   "execution_count": 12,
   "metadata": {},
   "outputs": [
    {
     "data": {
      "image/png": "[encoded data removed]",
      "text/plain": [
       "<matplotlib.figure.Figure at 0x1160eb748>"
      ]
     },
     "metadata": {},
     "output_type": "display_data"
    }
   ],
   "source": [
    "plt.plot(energies,dos)\n",
    "plt.plot(energies,dos_l)\n",
    "plt.plot(energies,dos_r)\n",
    "plt.show()"
   ]
  },
  {
   "cell_type": "markdown",
   "metadata": {},
   "source": [
    "Definimos los $\\Gamma$ de cada lado como $\\Gamma = i(\\Sigma^+-\\Sigma^-)$"
   ]
  },
  {
   "cell_type": "code",
   "execution_count": 13,
   "metadata": {
    "collapsed": true
   },
   "outputs": [],
   "source": [
    "def Gamma_L(epsilon,mu_l):\n",
    "    return (0.0+1j) * ( Sigma_L(epsilon+eta*1j,mu_l) - Sigma_L(epsilon-eta*1j,mu_l) )"
   ]
  },
  {
   "cell_type": "code",
   "execution_count": 14,
   "metadata": {
    "collapsed": true
   },
   "outputs": [],
   "source": [
    "def Gamma_R(epsilon,mu_r):\n",
    "    return (0.0+1j) * ( Sigma_R(epsilon+eta*1j,mu_r) - Sigma_R(epsilon-eta*1j,mu_r) )"
   ]
  },
  {
   "cell_type": "markdown",
   "metadata": {},
   "source": [
    "Y las $G^+$ y $G^-$ del dispositivo"
   ]
  },
  {
   "cell_type": "code",
   "execution_count": 15,
   "metadata": {
    "collapsed": true
   },
   "outputs": [],
   "source": [
    "def G_plus_dev(epsilon,mu_l,mu_r):\n",
    "    return G_dev(epsilon+eta*1j,mu_l,mu_r)"
   ]
  },
  {
   "cell_type": "code",
   "execution_count": 16,
   "metadata": {
    "collapsed": true
   },
   "outputs": [],
   "source": [
    "def G_minus_dev(epsilon,mu_l,mu_r):\n",
    "    return G_dev(epsilon-eta*1j,mu_l,mu_r)"
   ]
  },
  {
   "cell_type": "markdown",
   "metadata": {},
   "source": [
    "La función de transmisión es \n",
    "\n",
    "$$T(\\epsilon)=\\mathrm{Tr}[\\Gamma_R G_{\\mathrm dev}^- \\Gamma_L G_{\\mathrm dev}^-]$$\n",
    "\n",
    "es un hecho **importante** que la función de transmisión depende de la diferencia de potencial, en general para voltajes pequeños esta diferencia no es importante pero cuando las diferencias de potencial son grandes podemos tocar los bordes de banda y la transmisión disminuye porque no hay estados en los leads capaces de traer electrones al dispositivo y llevárselos. La función de transmisión es real por definición pero como estamos haciendo jueguitos numéricos (y fundamenalmente por $\\eta$) tiene una pequeña parte imaginaria que tiramos."
   ]
  },
  {
   "cell_type": "code",
   "execution_count": 17,
   "metadata": {
    "collapsed": true
   },
   "outputs": [],
   "source": [
    "def T(epsilon,mu_l,mu_r):\n",
    "    return np.trace(\n",
    "        np.dot(Gamma_R(epsilon,mu_r),\n",
    "        np.dot(G_minus_dev(epsilon,mu_l,mu_r),\n",
    "        np.dot(Gamma_L(epsilon,mu_l),\n",
    "               G_plus_dev(epsilon,mu_l,mu_r)\n",
    "              )))\n",
    "    ).real"
   ]
  },
  {
   "cell_type": "code",
   "execution_count": 18,
   "metadata": {
    "collapsed": true
   },
   "outputs": [],
   "source": [
    "transmission = []\n",
    "mu_l = 0.1\n",
    "mu_r = -0.1\n",
    "energies = np.linspace(-1.0,1.0,1000)\n",
    "for energy in energies:\n",
    "    transmission.append(T(energy,mu_l,mu_r))"
   ]
  },
  {
   "cell_type": "code",
   "execution_count": 19,
   "metadata": {},
   "outputs": [
    {
     "data": {
      "image/png": "[encoded data removed]",
      "text/plain": [
       "<matplotlib.figure.Figure at 0x118728cf8>"
      ]
     },
     "metadata": {},
     "output_type": "display_data"
    }
   ],
   "source": [
    "plt.plot(energies,transmission)\n",
    "plt.show()"
   ]
  },
  {
   "cell_type": "markdown",
   "metadata": {},
   "source": [
    "La corriente es\n",
    "\n",
    "$$ I(\\Delta V) = \\int_{-\\Delta V/2}^{\\Delta V/2} T(\\epsilon,\\Delta V)\\ d\\epsilon $$"
   ]
  },
  {
   "cell_type": "code",
   "execution_count": 20,
   "metadata": {
    "collapsed": true
   },
   "outputs": [],
   "source": [
    "def Current(DeltaV):    \n",
    "    curr = quadrature(T,-DeltaV/2.0,DeltaV/2.0,args=(DeltaV/2,-DeltaV/2),maxiter=400,vec_func=False)[0]\n",
    "    return 2.0 * curr / (hbar * 2.0 * math.pi)"
   ]
  },
  {
   "cell_type": "markdown",
   "metadata": {},
   "source": [
    "Lo que sigue es lerdo porque hay que integrar la transmisión a cada bias."
   ]
  },
  {
   "cell_type": "code",
   "execution_count": 21,
   "metadata": {
    "collapsed": true
   },
   "outputs": [],
   "source": [
    "DVs = np.linspace(0.0,1.0,50)\n",
    "Is = []\n",
    "for DV in DVs:\n",
    "    II = Current(DV)\n",
    "    Is.append(II)"
   ]
  },
  {
   "cell_type": "code",
   "execution_count": 22,
   "metadata": {},
   "outputs": [
    {
     "data": {
      "image/png": "[encoded data removed]",
      "text/plain": [
       "<matplotlib.figure.Figure at 0x118741cc0>"
      ]
     },
     "metadata": {},
     "output_type": "display_data"
    }
   ],
   "source": [
    "plt.plot(DVs,Is)\n",
    "plt.show()"
   ]
  },
  {
   "cell_type": "markdown",
   "metadata": {},
   "source": [
    "Cosas para hacer\n",
    "* Convertir al sistema en un conductor perfecto y mirar la transmisión y la corriente.\n",
    "* Fijarse en este paso qué ocurre con la función de transmisión y la corriente en el conductor perfecto cuando aumenta mucho la diferencia de potencial.\n",
    "* Armar una diatómica y analizar la relación entre las DOS, la T y la curva I vs V\n",
    "* Jugar con todo lo que se les ocurra! Analizar la influencia de $\\gamma$ por ejemplo en las características de la curva IV. Y si cambiamos los $\\epsilon_i$?"
   ]
  },
  {
   "cell_type": "code",
   "execution_count": 23,
   "metadata": {
    "collapsed": true
   },
   "outputs": [],
   "source": [
    "np.savetxt('deltavs.dat',DVs)\n",
    "np.savetxt('ivsv.dat',Is)"
   ]
  },
  {
   "cell_type": "code",
   "execution_count": null,
   "metadata": {
    "collapsed": true
   },
   "outputs": [],
   "source": []
  }
 ],
 "metadata": {
  "anaconda-cloud": {},
  "kernelspec": {
   "display_name": "Python 3",
   "language": "python",
   "name": "python3"
  },
  "language_info": {
   "codemirror_mode": {
    "name": "ipython",
    "version": 3
   },
   "file_extension": ".py",
   "mimetype": "text/x-python",
   "name": "python",
   "nbconvert_exporter": "python",
   "pygments_lexer": "ipython3",
   "version": "3.6.2"
  }
 },
 "nbformat": 4,
 "nbformat_minor": 1
}
